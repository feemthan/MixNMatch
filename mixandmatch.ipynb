{
 "cells": [
  {
   "cell_type": "code",
   "execution_count": 1,
   "metadata": {},
   "outputs": [],
   "source": [
    "import difflib\n",
    "import random\n",
    "from copy import deepcopy\n",
    "import itertools"
   ]
  },
  {
   "cell_type": "code",
   "execution_count": 2,
   "metadata": {},
   "outputs": [],
   "source": [
    "dict={\"2\":[\"A\",\"B\",\"C\"],\n",
    "      \"3\":[\"D\",\"E\",\"F\"],\n",
    "      \"4\":[\"G\",\"H\",\"I\"],\n",
    "      \"5\":[\"J\",\"K\",\"L\"],\n",
    "      \"6\":[\"M\",\"N\",\"O\"],\n",
    "      \"7\":[\"P\",\"Q\",\"R\",\"S\"],\n",
    "      \"8\":[\"T\",\"U\",\"V\"],\n",
    "      \"9\":[\"W\",\"X\",\"Y\",\"Z\"]}\n",
    "\n",
    "vow_dict={\"2\":\"A\",\n",
    "          \"3\":\"E\",\n",
    "          \"4\":\"I\",\n",
    "          \"6\":\"O\",\n",
    "          \"8\":\"U\"}\n",
    "\n",
    "conso_dict={\"2\":[\"B\",\"C\"],\n",
    "           \"3\":[\"D\",\"F\"],\n",
    "           \"4\":[\"G\",\"H\"],\n",
    "           \"5\":[\"J\",\"K\",\"L\"],\n",
    "           \"6\":[\"M\",\"N\"],\n",
    "           \"7\":[\"P\",\"Q\",\"R\",\"S\"],\n",
    "           \"8\":[\"T\",\"V\"],\n",
    "           \"9\":[\"W\",\"X\",\"Y\",\"Z\"]}"
   ]
  },
  {
   "cell_type": "code",
   "execution_count": 3,
   "metadata": {},
   "outputs": [],
   "source": [
    "def find_dupes(x):\n",
    "    if x[0]==x[1]:\n",
    "        return x[0]\n",
    "    elif x[1]==x[2]:\n",
    "        return x[1]\n",
    "    elif x[2]==x[3]:\n",
    "        return x[2]"
   ]
  },
  {
   "cell_type": "code",
   "execution_count": 4,
   "metadata": {},
   "outputs": [],
   "source": [
    "def best_match(x):\n",
    "    best_match=[]\n",
    "    x=list(x)\n",
    "    while x:\n",
    "        a=x.pop()\n",
    "        try:\n",
    "            if (a in vow_dict.keys()) & (vow_dict[a] not in best_match):\n",
    "                best_match.append(vow_dict[a])\n",
    "            elif (a in vow_dict.keys())& (vow_dict[a] in best_match):\n",
    "                test=deepcopy(dict)[a]\n",
    "                test.remove(vow_dict[a])\n",
    "                test1=test[0]\n",
    "                if test1 not in best_match:\n",
    "                    best_match.append(test1)\n",
    "                else:\n",
    "                    best_match.append(test[1])\n",
    "        except:\n",
    "            best_match.append(dict[a][random.randint(0,len(dict[a])-1)])\n",
    "    if (best_match[0] not in vow_dict.values())&(best_match[1] not in vow_dict.values())&(best_match[2] not in vow_dict.values()):\n",
    "            best_match=None\n",
    "            return(best_match)\n",
    "    return(\"\".join(sorted(best_match, key=str)))"
   ]
  },
  {
   "cell_type": "code",
   "execution_count": 5,
   "metadata": {},
   "outputs": [],
   "source": [
    "def check_vow_num(x):\n",
    "    x=list(x)\n",
    "    test=[]\n",
    "    while x:\n",
    "        a=x.pop()\n",
    "        if a in vow_dict.keys():\n",
    "            test.append(vow_dict[a])\n",
    "    return list(set(test))"
   ]
  },
  {
   "cell_type": "code",
   "execution_count": 6,
   "metadata": {},
   "outputs": [],
   "source": [
    "def matches(x):\n",
    "    if len(check_vow_num(x))==0:\n",
    "        return(None)\n",
    "    elif len(check_vow_num(x))==1:\n",
    "        test=best_match(x)\n",
    "        conso=list(set(list(test)) - set(vow_dict.values()))\n",
    "        final=list(map(\"\".join, itertools.permutations(test)))[1:]\n",
    "    elif len(check_vow_num(x))==2:\n",
    "        dupe=find_dupes(x)\n",
    "        test=check_vow_num(x)\n",
    "        consolist=deepcopy(conso_dict[str(dupe)])\n",
    "        final=[]\n",
    "        for i in range(0,len(consolist)):\n",
    "            b=consolist[i]\n",
    "            test.append(str(b))\n",
    "            final.append((map(\"\".join,itertools.permutations(test))[1:]))\n",
    "            test.pop()\n",
    "        final1=final[0]\n",
    "        final2=final[1]\n",
    "        final=list(set(final1+final2))\n",
    "    elif len(check_vow_num(x))==3:\n",
    "        test=best_match(x)\n",
    "        final=list(map(\"\".join,itertools.permutations(test)))[1:]\n",
    "    return final"
   ]
  },
  {
   "cell_type": "code",
   "execution_count": 7,
   "metadata": {},
   "outputs": [],
   "source": [
    "z = 'ABCDEFGHIJKLMOPQRSTUVWXYZ'\n",
    "z1 = [''.join(i) for i in itertools.permutations(z, 3)]"
   ]
  },
  {
   "cell_type": "code",
   "execution_count": 8,
   "metadata": {},
   "outputs": [
    {
     "data": {
      "text/plain": [
       "['ABC', 'ABD', 'ABE', 'ABF', 'ABG']"
      ]
     },
     "execution_count": 8,
     "metadata": {},
     "output_type": "execute_result"
    }
   ],
   "source": [
    "z1[0:5]"
   ]
  },
  {
   "cell_type": "code",
   "execution_count": 9,
   "metadata": {
    "scrolled": false
   },
   "outputs": [],
   "source": [
    "final=[]\n",
    "finallist=[]\n",
    "for i in range(0,len(z1)):\n",
    "    a=z1[i][0]\n",
    "    b=z1[i][1]\n",
    "    c=z1[i][2]\n",
    "    temp=[]\n",
    "    for j in range(2,10):\n",
    "        if a in dict[str(j)]:\n",
    "            temp.append(str(j))\n",
    "    for j in range(2,10):\n",
    "        if b in dict[str(j)]:\n",
    "            temp.append(str(j))\n",
    "    for j in range(2,10):\n",
    "        if c in dict[str(j)]:\n",
    "            temp.append(str(j))\n",
    "    final=\"\".join(temp)\n",
    "    if final not in finallist:\n",
    "        finallist.append(final)"
   ]
  },
  {
   "cell_type": "code",
   "execution_count": 10,
   "metadata": {},
   "outputs": [
    {
     "data": {
      "text/plain": [
       "['222', '223', '224', '225', '226']"
      ]
     },
     "execution_count": 10,
     "metadata": {},
     "output_type": "execute_result"
    }
   ],
   "source": [
    "finallist[0:5]"
   ]
  },
  {
   "cell_type": "code",
   "execution_count": 11,
   "metadata": {
    "scrolled": true
   },
   "outputs": [],
   "source": [
    "dict_final={}\n",
    "for i in range(0,len(z1)):\n",
    "    a=z1[i][0]\n",
    "    b=z1[i][1]\n",
    "    c=z1[i][2]\n",
    "    temp=[]\n",
    "    for j in range(2,10):\n",
    "        if a in dict[str(j)]:\n",
    "            temp.append(str(j))\n",
    "    for j in range(2,10):\n",
    "        if b in dict[str(j)]:\n",
    "            temp.append(str(j))\n",
    "    for j in range(2,10):\n",
    "        if c in dict[str(j)]:\n",
    "            temp.append(str(j))\n",
    "    final=\"\".join(temp)\n",
    "    if final in dict_final.keys():\n",
    "        dict_final[str(final)].append(str(z1[i]))\n",
    "    else:\n",
    "        dict_final[final]=[str(z1[i])]"
   ]
  },
  {
   "cell_type": "code",
   "execution_count": 16,
   "metadata": {},
   "outputs": [],
   "source": [
    "#dict_final"
   ]
  },
  {
   "cell_type": "code",
   "execution_count": 13,
   "metadata": {},
   "outputs": [
    {
     "name": "stdout",
     "output_type": "stream",
     "text": [
      "Best Match for 222 is : \n",
      "ABC\n",
      "Matchs for 222 are : \n",
      "['ACB', 'BAC', 'BCA', 'CAB', 'CBA']\n"
     ]
    }
   ],
   "source": [
    "print(\"Best Match for 222 is : \")\n",
    "print(best_match(\"222\"))\n",
    "print(\"Matchs for 222 are : \")\n",
    "print(matches(\"222\"))"
   ]
  },
  {
   "cell_type": "code",
   "execution_count": 14,
   "metadata": {},
   "outputs": [
    {
     "name": "stdout",
     "output_type": "stream",
     "text": [
      "Best Match for 223 is :\n",
      "ABE\n",
      "Matchs for 232 are : \n",
      "['EAB', 'ABE', 'ACE', 'EAC', 'BEA', 'CEA', 'ECA', 'BAE', 'CAE', 'EBA']\n"
     ]
    }
   ],
   "source": [
    "print(\"Best Match for 223 is :\")\n",
    "print(best_match(\"223\"))\n",
    "print(\"Matchs for 232 are : \")\n",
    "print(matches(\"223\"))"
   ]
  },
  {
   "cell_type": "code",
   "execution_count": 15,
   "metadata": {},
   "outputs": [
    {
     "name": "stdout",
     "output_type": "stream",
     "text": [
      "Best Match for 777 is :\n",
      "None\n",
      "Matchs for 777 are :\n",
      "None\n"
     ]
    }
   ],
   "source": [
    "print(\"Best Match for 777 is :\")\n",
    "print(best_match(\"777\"))\n",
    "print(\"Matchs for 777 are :\")\n",
    "print(matches(\"777\"))"
   ]
  },
  {
   "cell_type": "code",
   "execution_count": null,
   "metadata": {},
   "outputs": [],
   "source": []
  },
  {
   "cell_type": "code",
   "execution_count": null,
   "metadata": {},
   "outputs": [],
   "source": []
  }
 ],
 "metadata": {
  "kernelspec": {
   "display_name": "Python 2",
   "language": "python",
   "name": "python2"
  },
  "language_info": {
   "codemirror_mode": {
    "name": "ipython",
    "version": 2
   },
   "file_extension": ".py",
   "mimetype": "text/x-python",
   "name": "python",
   "nbconvert_exporter": "python",
   "pygments_lexer": "ipython2",
   "version": "2.7.14"
  }
 },
 "nbformat": 4,
 "nbformat_minor": 2
}
